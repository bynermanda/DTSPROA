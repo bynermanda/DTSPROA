{
  "nbformat": 4,
  "nbformat_minor": 0,
  "metadata": {
    "colab": {
      "provenance": [],
      "collapsed_sections": []
    },
    "kernelspec": {
      "name": "ir",
      "display_name": "R"
    },
    "language_info": {
      "name": "R"
    }
  },
  "cells": [
    {
      "cell_type": "markdown",
      "source": [
        "**Project : Data Scientis Assesment Using R**\n",
        "\n",
        "Pada project melakukan syntax dasar pada R, serta analisis menggunakan statistik, serta merancang Machine Learning with R"
      ],
      "metadata": {
        "id": "koq7t5yI2l3z"
      }
    },
    {
      "cell_type": "code",
      "source": [
        "## Membuat Data Frame\n",
        "df <- data.frame(a = c(1, 2, 3), b = c(4, 5, 6), c = c(7, 8, 9))\n",
        "df$b\n",
        "df$a[1]\n",
        "df$b[3]"
      ],
      "metadata": {
        "colab": {
          "base_uri": "https://localhost:8080/",
          "height": 69
        },
        "id": "YhTckXQP5SQr",
        "outputId": "df00af49-7a6d-4afa-9163-32c836006721"
      },
      "execution_count": 2,
      "outputs": [
        {
          "output_type": "display_data",
          "data": {
            "text/html": [
              "<style>\n",
              ".list-inline {list-style: none; margin:0; padding: 0}\n",
              ".list-inline>li {display: inline-block}\n",
              ".list-inline>li:not(:last-child)::after {content: \"\\00b7\"; padding: 0 .5ex}\n",
              "</style>\n",
              "<ol class=list-inline><li>4</li><li>5</li><li>6</li></ol>\n"
            ],
            "text/markdown": "1. 4\n2. 5\n3. 6\n\n\n",
            "text/latex": "\\begin{enumerate*}\n\\item 4\n\\item 5\n\\item 6\n\\end{enumerate*}\n",
            "text/plain": [
              "[1] 4 5 6"
            ]
          },
          "metadata": {}
        },
        {
          "output_type": "display_data",
          "data": {
            "text/html": [
              "1"
            ],
            "text/markdown": "1",
            "text/latex": "1",
            "text/plain": [
              "[1] 1"
            ]
          },
          "metadata": {}
        },
        {
          "output_type": "display_data",
          "data": {
            "text/html": [
              "6"
            ],
            "text/markdown": "6",
            "text/latex": "6",
            "text/plain": [
              "[1] 6"
            ]
          },
          "metadata": {}
        }
      ]
    },
    {
      "cell_type": "markdown",
      "source": [
        "Membuat Vektor dan Index Postion\n",
        "Pada bagian ini membuat sebuah vektro dan menghasilkan output seperti dibawah ini\n",
        "![image.png](data:image/png;base64,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)"
      ],
      "metadata": {
        "id": "yrF-vZHH6w-3"
      }
    },
    {
      "cell_type": "code",
      "source": [
        "x <- c(\"red\",\"blue\",\"yellow\",\"orange\",\"green\",\"purple\")\n",
        "y <- x[2:4]\n",
        "y"
      ],
      "metadata": {
        "colab": {
          "base_uri": "https://localhost:8080/",
          "height": 34
        },
        "id": "RuxwbQnd6qCX",
        "outputId": "dd326732-964e-40e4-e6c2-b7e3aaa06911"
      },
      "execution_count": 3,
      "outputs": [
        {
          "output_type": "display_data",
          "data": {
            "text/html": [
              "<style>\n",
              ".list-inline {list-style: none; margin:0; padding: 0}\n",
              ".list-inline>li {display: inline-block}\n",
              ".list-inline>li:not(:last-child)::after {content: \"\\00b7\"; padding: 0 .5ex}\n",
              "</style>\n",
              "<ol class=list-inline><li>'blue'</li><li>'yellow'</li><li>'orange'</li></ol>\n"
            ],
            "text/markdown": "1. 'blue'\n2. 'yellow'\n3. 'orange'\n\n\n",
            "text/latex": "\\begin{enumerate*}\n\\item 'blue'\n\\item 'yellow'\n\\item 'orange'\n\\end{enumerate*}\n",
            "text/plain": [
              "[1] \"blue\"   \"yellow\" \"orange\""
            ]
          },
          "metadata": {}
        }
      ]
    },
    {
      "cell_type": "markdown",
      "source": [
        "Mengisi Syntax Factor\n",
        "Bagian ini melakukan Penambahan atau menggatikan Varaiable pada vektor yang sudah ada"
      ],
      "metadata": {
        "id": "RLfV-XT87lxS"
      }
    },
    {
      "cell_type": "code",
      "source": [
        "x <- factor(c(\"grape\",\"apples\",\"pear\",\"cherry\",\"mango\",\"panda\"))\n",
        "x\n",
        "x[6] <- \"apples\" ## Menggati Panda (di index 6) dengan apples\n",
        "factor(x)"
      ],
      "metadata": {
        "colab": {
          "base_uri": "https://localhost:8080/",
          "height": 86
        },
        "id": "VmvR455v7vPp",
        "outputId": "447ea902-1f11-417c-8cd4-0388d64b0899"
      },
      "execution_count": 4,
      "outputs": [
        {
          "output_type": "display_data",
          "data": {
            "text/html": [
              "<style>\n",
              ".list-inline {list-style: none; margin:0; padding: 0}\n",
              ".list-inline>li {display: inline-block}\n",
              ".list-inline>li:not(:last-child)::after {content: \"\\00b7\"; padding: 0 .5ex}\n",
              "</style>\n",
              "<ol class=list-inline><li>grape</li><li>apples</li><li>pear</li><li>cherry</li><li>mango</li><li>panda</li></ol>\n",
              "\n",
              "<details>\n",
              "\t<summary style=display:list-item;cursor:pointer>\n",
              "\t\t<strong>Levels</strong>:\n",
              "\t</summary>\n",
              "\t<style>\n",
              "\t.list-inline {list-style: none; margin:0; padding: 0}\n",
              "\t.list-inline>li {display: inline-block}\n",
              "\t.list-inline>li:not(:last-child)::after {content: \"\\00b7\"; padding: 0 .5ex}\n",
              "\t</style>\n",
              "\t<ol class=list-inline><li>'apples'</li><li>'cherry'</li><li>'grape'</li><li>'mango'</li><li>'panda'</li><li>'pear'</li></ol>\n",
              "</details>"
            ],
            "text/markdown": "1. grape\n2. apples\n3. pear\n4. cherry\n5. mango\n6. panda\n\n\n\n**Levels**: 1. 'apples'\n2. 'cherry'\n3. 'grape'\n4. 'mango'\n5. 'panda'\n6. 'pear'\n\n\n",
            "text/latex": "\\begin{enumerate*}\n\\item grape\n\\item apples\n\\item pear\n\\item cherry\n\\item mango\n\\item panda\n\\end{enumerate*}\n\n\\emph{Levels}: \\begin{enumerate*}\n\\item 'apples'\n\\item 'cherry'\n\\item 'grape'\n\\item 'mango'\n\\item 'panda'\n\\item 'pear'\n\\end{enumerate*}\n",
            "text/plain": [
              "[1] grape  apples pear   cherry mango  panda \n",
              "Levels: apples cherry grape mango panda pear"
            ]
          },
          "metadata": {}
        },
        {
          "output_type": "display_data",
          "data": {
            "text/html": [
              "<style>\n",
              ".list-inline {list-style: none; margin:0; padding: 0}\n",
              ".list-inline>li {display: inline-block}\n",
              ".list-inline>li:not(:last-child)::after {content: \"\\00b7\"; padding: 0 .5ex}\n",
              "</style>\n",
              "<ol class=list-inline><li>grape</li><li>apples</li><li>pear</li><li>cherry</li><li>mango</li><li>apples</li></ol>\n",
              "\n",
              "<details>\n",
              "\t<summary style=display:list-item;cursor:pointer>\n",
              "\t\t<strong>Levels</strong>:\n",
              "\t</summary>\n",
              "\t<style>\n",
              "\t.list-inline {list-style: none; margin:0; padding: 0}\n",
              "\t.list-inline>li {display: inline-block}\n",
              "\t.list-inline>li:not(:last-child)::after {content: \"\\00b7\"; padding: 0 .5ex}\n",
              "\t</style>\n",
              "\t<ol class=list-inline><li>'apples'</li><li>'cherry'</li><li>'grape'</li><li>'mango'</li><li>'pear'</li></ol>\n",
              "</details>"
            ],
            "text/markdown": "1. grape\n2. apples\n3. pear\n4. cherry\n5. mango\n6. apples\n\n\n\n**Levels**: 1. 'apples'\n2. 'cherry'\n3. 'grape'\n4. 'mango'\n5. 'pear'\n\n\n",
            "text/latex": "\\begin{enumerate*}\n\\item grape\n\\item apples\n\\item pear\n\\item cherry\n\\item mango\n\\item apples\n\\end{enumerate*}\n\n\\emph{Levels}: \\begin{enumerate*}\n\\item 'apples'\n\\item 'cherry'\n\\item 'grape'\n\\item 'mango'\n\\item 'pear'\n\\end{enumerate*}\n",
            "text/plain": [
              "[1] grape  apples pear   cherry mango  apples\n",
              "Levels: apples cherry grape mango pear"
            ]
          },
          "metadata": {}
        }
      ]
    },
    {
      "cell_type": "code",
      "source": [
        "## Menggunakan Fucntion\n",
        "add_numbers <- function(x,y){\n",
        "  a <- x+y\n",
        "  return(a)\n",
        "}\n",
        "add_numbers(x = 3, y = 3)"
      ],
      "metadata": {
        "colab": {
          "base_uri": "https://localhost:8080/",
          "height": 34
        },
        "id": "dQmEaOWY7_M4",
        "outputId": "d9d2c50a-13b3-4135-e8d9-efce6348417b"
      },
      "execution_count": 5,
      "outputs": [
        {
          "output_type": "display_data",
          "data": {
            "text/html": [
              "6"
            ],
            "text/markdown": "6",
            "text/latex": "6",
            "text/plain": [
              "[1] 6"
            ]
          },
          "metadata": {}
        }
      ]
    },
    {
      "cell_type": "code",
      "source": [
        "## Mengganti Missing Value\n",
        "df <- c(1,2,3,4,5,6,NA,7,8,9,NA)\n",
        "df\n",
        "mean_replace <- function(i){\n",
        "  i[is.na(i)]<-mean(i, na.rm=TRUE) ##Menggati nilai NA dengan mean (Rata-rata)\n",
        "  i\n",
        "}\n",
        "df <- mean_replace(df)\n",
        "df"
      ],
      "metadata": {
        "colab": {
          "base_uri": "https://localhost:8080/",
          "height": 52
        },
        "id": "OM28fiO48S4T",
        "outputId": "1f55c05e-77c5-4645-e7f5-fbc76e23e987"
      },
      "execution_count": 6,
      "outputs": [
        {
          "output_type": "display_data",
          "data": {
            "text/html": [
              "<style>\n",
              ".list-inline {list-style: none; margin:0; padding: 0}\n",
              ".list-inline>li {display: inline-block}\n",
              ".list-inline>li:not(:last-child)::after {content: \"\\00b7\"; padding: 0 .5ex}\n",
              "</style>\n",
              "<ol class=list-inline><li>1</li><li>2</li><li>3</li><li>4</li><li>5</li><li>6</li><li>&lt;NA&gt;</li><li>7</li><li>8</li><li>9</li><li>&lt;NA&gt;</li></ol>\n"
            ],
            "text/markdown": "1. 1\n2. 2\n3. 3\n4. 4\n5. 5\n6. 6\n7. &lt;NA&gt;\n8. 7\n9. 8\n10. 9\n11. &lt;NA&gt;\n\n\n",
            "text/latex": "\\begin{enumerate*}\n\\item 1\n\\item 2\n\\item 3\n\\item 4\n\\item 5\n\\item 6\n\\item <NA>\n\\item 7\n\\item 8\n\\item 9\n\\item <NA>\n\\end{enumerate*}\n",
            "text/plain": [
              " [1]  1  2  3  4  5  6 NA  7  8  9 NA"
            ]
          },
          "metadata": {}
        },
        {
          "output_type": "display_data",
          "data": {
            "text/html": [
              "<style>\n",
              ".list-inline {list-style: none; margin:0; padding: 0}\n",
              ".list-inline>li {display: inline-block}\n",
              ".list-inline>li:not(:last-child)::after {content: \"\\00b7\"; padding: 0 .5ex}\n",
              "</style>\n",
              "<ol class=list-inline><li>1</li><li>2</li><li>3</li><li>4</li><li>5</li><li>6</li><li>5</li><li>7</li><li>8</li><li>9</li><li>5</li></ol>\n"
            ],
            "text/markdown": "1. 1\n2. 2\n3. 3\n4. 4\n5. 5\n6. 6\n7. 5\n8. 7\n9. 8\n10. 9\n11. 5\n\n\n",
            "text/latex": "\\begin{enumerate*}\n\\item 1\n\\item 2\n\\item 3\n\\item 4\n\\item 5\n\\item 6\n\\item 5\n\\item 7\n\\item 8\n\\item 9\n\\item 5\n\\end{enumerate*}\n",
            "text/plain": [
              " [1] 1 2 3 4 5 6 5 7 8 9 5"
            ]
          },
          "metadata": {}
        }
      ]
    },
    {
      "cell_type": "markdown",
      "source": [
        "STASTIC USING R\n",
        "Dapat melihat data set pada link dibawah ini:\n",
        "https://storage.googleapis.com/dqlab-dataset/trees.csv"
      ],
      "metadata": {
        "id": "xHYscsLO-Ktg"
      }
    },
    {
      "cell_type": "code",
      "source": [
        "library(readr) #Membaca dataset yang bebentuk kotak"
      ],
      "metadata": {
        "id": "AbuMgq9e9oQt"
      },
      "execution_count": 7,
      "outputs": []
    },
    {
      "cell_type": "code",
      "source": [
        "## Membuat data frame\n",
        "trees_df <- read.csv(\"/content/trees.csv\")"
      ],
      "metadata": {
        "id": "_aFEv00r-sDz"
      },
      "execution_count": 8,
      "outputs": []
    },
    {
      "cell_type": "code",
      "source": [
        "## Mengecek Tipe Data\n",
        "names(trees_df)\n",
        "str(trees_df)\n",
        "names(trees_df)[1] <- \"Diameter\"\n",
        "trees_df$diameter_ft <- trees_df$Diameter*0.08333\n",
        "head(trees_df)\n",
        "summary(trees_df)\n",
        "is.na(trees_df)"
      ],
      "metadata": {
        "colab": {
          "base_uri": "https://localhost:8080/",
          "height": 1000
        },
        "id": "fBGPis7V_Fbm",
        "outputId": "8d639738-e88f-4d69-84e7-b904e198ec0a"
      },
      "execution_count": 9,
      "outputs": [
        {
          "output_type": "display_data",
          "data": {
            "text/html": [
              "<style>\n",
              ".list-inline {list-style: none; margin:0; padding: 0}\n",
              ".list-inline>li {display: inline-block}\n",
              ".list-inline>li:not(:last-child)::after {content: \"\\00b7\"; padding: 0 .5ex}\n",
              "</style>\n",
              "<ol class=list-inline><li>'Girth'</li><li>'Height'</li><li>'Volume'</li></ol>\n"
            ],
            "text/markdown": "1. 'Girth'\n2. 'Height'\n3. 'Volume'\n\n\n",
            "text/latex": "\\begin{enumerate*}\n\\item 'Girth'\n\\item 'Height'\n\\item 'Volume'\n\\end{enumerate*}\n",
            "text/plain": [
              "[1] \"Girth\"  \"Height\" \"Volume\""
            ]
          },
          "metadata": {}
        },
        {
          "output_type": "stream",
          "name": "stdout",
          "text": [
            "'data.frame':\t31 obs. of  3 variables:\n",
            " $ Girth : num  8.3 8.6 8.8 10.5 10.7 10.8 11 11 11.1 11.2 ...\n",
            " $ Height: int  70 65 63 72 81 83 66 75 80 75 ...\n",
            " $ Volume: num  10.3 10.3 10.2 16.4 18.8 19.7 15.6 18.2 22.6 19.9 ...\n"
          ]
        },
        {
          "output_type": "display_data",
          "data": {
            "text/html": [
              "<table class=\"dataframe\">\n",
              "<caption>A data.frame: 6 × 4</caption>\n",
              "<thead>\n",
              "\t<tr><th></th><th scope=col>Diameter</th><th scope=col>Height</th><th scope=col>Volume</th><th scope=col>diameter_ft</th></tr>\n",
              "\t<tr><th></th><th scope=col>&lt;dbl&gt;</th><th scope=col>&lt;int&gt;</th><th scope=col>&lt;dbl&gt;</th><th scope=col>&lt;dbl&gt;</th></tr>\n",
              "</thead>\n",
              "<tbody>\n",
              "\t<tr><th scope=row>1</th><td> 8.3</td><td>70</td><td>10.3</td><td>0.691639</td></tr>\n",
              "\t<tr><th scope=row>2</th><td> 8.6</td><td>65</td><td>10.3</td><td>0.716638</td></tr>\n",
              "\t<tr><th scope=row>3</th><td> 8.8</td><td>63</td><td>10.2</td><td>0.733304</td></tr>\n",
              "\t<tr><th scope=row>4</th><td>10.5</td><td>72</td><td>16.4</td><td>0.874965</td></tr>\n",
              "\t<tr><th scope=row>5</th><td>10.7</td><td>81</td><td>18.8</td><td>0.891631</td></tr>\n",
              "\t<tr><th scope=row>6</th><td>10.8</td><td>83</td><td>19.7</td><td>0.899964</td></tr>\n",
              "</tbody>\n",
              "</table>\n"
            ],
            "text/markdown": "\nA data.frame: 6 × 4\n\n| <!--/--> | Diameter &lt;dbl&gt; | Height &lt;int&gt; | Volume &lt;dbl&gt; | diameter_ft &lt;dbl&gt; |\n|---|---|---|---|---|\n| 1 |  8.3 | 70 | 10.3 | 0.691639 |\n| 2 |  8.6 | 65 | 10.3 | 0.716638 |\n| 3 |  8.8 | 63 | 10.2 | 0.733304 |\n| 4 | 10.5 | 72 | 16.4 | 0.874965 |\n| 5 | 10.7 | 81 | 18.8 | 0.891631 |\n| 6 | 10.8 | 83 | 19.7 | 0.899964 |\n\n",
            "text/latex": "A data.frame: 6 × 4\n\\begin{tabular}{r|llll}\n  & Diameter & Height & Volume & diameter\\_ft\\\\\n  & <dbl> & <int> & <dbl> & <dbl>\\\\\n\\hline\n\t1 &  8.3 & 70 & 10.3 & 0.691639\\\\\n\t2 &  8.6 & 65 & 10.3 & 0.716638\\\\\n\t3 &  8.8 & 63 & 10.2 & 0.733304\\\\\n\t4 & 10.5 & 72 & 16.4 & 0.874965\\\\\n\t5 & 10.7 & 81 & 18.8 & 0.891631\\\\\n\t6 & 10.8 & 83 & 19.7 & 0.899964\\\\\n\\end{tabular}\n",
            "text/plain": [
              "  Diameter Height Volume diameter_ft\n",
              "1  8.3     70     10.3   0.691639   \n",
              "2  8.6     65     10.3   0.716638   \n",
              "3  8.8     63     10.2   0.733304   \n",
              "4 10.5     72     16.4   0.874965   \n",
              "5 10.7     81     18.8   0.891631   \n",
              "6 10.8     83     19.7   0.899964   "
            ]
          },
          "metadata": {}
        },
        {
          "output_type": "display_data",
          "data": {
            "text/plain": [
              "    Diameter         Height       Volume       diameter_ft    \n",
              " Min.   : 8.30   Min.   :63   Min.   :10.20   Min.   :0.6916  \n",
              " 1st Qu.:11.05   1st Qu.:72   1st Qu.:19.40   1st Qu.:0.9208  \n",
              " Median :12.90   Median :76   Median :24.20   Median :1.0750  \n",
              " Mean   :13.25   Mean   :76   Mean   :30.17   Mean   :1.1040  \n",
              " 3rd Qu.:15.25   3rd Qu.:80   3rd Qu.:37.30   3rd Qu.:1.2708  \n",
              " Max.   :20.60   Max.   :87   Max.   :77.00   Max.   :1.7166  "
            ]
          },
          "metadata": {}
        },
        {
          "output_type": "display_data",
          "data": {
            "text/html": [
              "<table class=\"dataframe\">\n",
              "<caption>A matrix: 31 × 4 of type lgl</caption>\n",
              "<thead>\n",
              "\t<tr><th scope=col>Diameter</th><th scope=col>Height</th><th scope=col>Volume</th><th scope=col>diameter_ft</th></tr>\n",
              "</thead>\n",
              "<tbody>\n",
              "\t<tr><td>FALSE</td><td>FALSE</td><td>FALSE</td><td>FALSE</td></tr>\n",
              "\t<tr><td>FALSE</td><td>FALSE</td><td>FALSE</td><td>FALSE</td></tr>\n",
              "\t<tr><td>FALSE</td><td>FALSE</td><td>FALSE</td><td>FALSE</td></tr>\n",
              "\t<tr><td>FALSE</td><td>FALSE</td><td>FALSE</td><td>FALSE</td></tr>\n",
              "\t<tr><td>FALSE</td><td>FALSE</td><td>FALSE</td><td>FALSE</td></tr>\n",
              "\t<tr><td>FALSE</td><td>FALSE</td><td>FALSE</td><td>FALSE</td></tr>\n",
              "\t<tr><td>FALSE</td><td>FALSE</td><td>FALSE</td><td>FALSE</td></tr>\n",
              "\t<tr><td>FALSE</td><td>FALSE</td><td>FALSE</td><td>FALSE</td></tr>\n",
              "\t<tr><td>FALSE</td><td>FALSE</td><td>FALSE</td><td>FALSE</td></tr>\n",
              "\t<tr><td>FALSE</td><td>FALSE</td><td>FALSE</td><td>FALSE</td></tr>\n",
              "\t<tr><td>FALSE</td><td>FALSE</td><td>FALSE</td><td>FALSE</td></tr>\n",
              "\t<tr><td>FALSE</td><td>FALSE</td><td>FALSE</td><td>FALSE</td></tr>\n",
              "\t<tr><td>FALSE</td><td>FALSE</td><td>FALSE</td><td>FALSE</td></tr>\n",
              "\t<tr><td>FALSE</td><td>FALSE</td><td>FALSE</td><td>FALSE</td></tr>\n",
              "\t<tr><td>FALSE</td><td>FALSE</td><td>FALSE</td><td>FALSE</td></tr>\n",
              "\t<tr><td>FALSE</td><td>FALSE</td><td>FALSE</td><td>FALSE</td></tr>\n",
              "\t<tr><td>FALSE</td><td>FALSE</td><td>FALSE</td><td>FALSE</td></tr>\n",
              "\t<tr><td>FALSE</td><td>FALSE</td><td>FALSE</td><td>FALSE</td></tr>\n",
              "\t<tr><td>FALSE</td><td>FALSE</td><td>FALSE</td><td>FALSE</td></tr>\n",
              "\t<tr><td>FALSE</td><td>FALSE</td><td>FALSE</td><td>FALSE</td></tr>\n",
              "\t<tr><td>FALSE</td><td>FALSE</td><td>FALSE</td><td>FALSE</td></tr>\n",
              "\t<tr><td>FALSE</td><td>FALSE</td><td>FALSE</td><td>FALSE</td></tr>\n",
              "\t<tr><td>FALSE</td><td>FALSE</td><td>FALSE</td><td>FALSE</td></tr>\n",
              "\t<tr><td>FALSE</td><td>FALSE</td><td>FALSE</td><td>FALSE</td></tr>\n",
              "\t<tr><td>FALSE</td><td>FALSE</td><td>FALSE</td><td>FALSE</td></tr>\n",
              "\t<tr><td>FALSE</td><td>FALSE</td><td>FALSE</td><td>FALSE</td></tr>\n",
              "\t<tr><td>FALSE</td><td>FALSE</td><td>FALSE</td><td>FALSE</td></tr>\n",
              "\t<tr><td>FALSE</td><td>FALSE</td><td>FALSE</td><td>FALSE</td></tr>\n",
              "\t<tr><td>FALSE</td><td>FALSE</td><td>FALSE</td><td>FALSE</td></tr>\n",
              "\t<tr><td>FALSE</td><td>FALSE</td><td>FALSE</td><td>FALSE</td></tr>\n",
              "\t<tr><td>FALSE</td><td>FALSE</td><td>FALSE</td><td>FALSE</td></tr>\n",
              "</tbody>\n",
              "</table>\n"
            ],
            "text/markdown": "\nA matrix: 31 × 4 of type lgl\n\n| Diameter | Height | Volume | diameter_ft |\n|---|---|---|---|\n| FALSE | FALSE | FALSE | FALSE |\n| FALSE | FALSE | FALSE | FALSE |\n| FALSE | FALSE | FALSE | FALSE |\n| FALSE | FALSE | FALSE | FALSE |\n| FALSE | FALSE | FALSE | FALSE |\n| FALSE | FALSE | FALSE | FALSE |\n| FALSE | FALSE | FALSE | FALSE |\n| FALSE | FALSE | FALSE | FALSE |\n| FALSE | FALSE | FALSE | FALSE |\n| FALSE | FALSE | FALSE | FALSE |\n| FALSE | FALSE | FALSE | FALSE |\n| FALSE | FALSE | FALSE | FALSE |\n| FALSE | FALSE | FALSE | FALSE |\n| FALSE | FALSE | FALSE | FALSE |\n| FALSE | FALSE | FALSE | FALSE |\n| FALSE | FALSE | FALSE | FALSE |\n| FALSE | FALSE | FALSE | FALSE |\n| FALSE | FALSE | FALSE | FALSE |\n| FALSE | FALSE | FALSE | FALSE |\n| FALSE | FALSE | FALSE | FALSE |\n| FALSE | FALSE | FALSE | FALSE |\n| FALSE | FALSE | FALSE | FALSE |\n| FALSE | FALSE | FALSE | FALSE |\n| FALSE | FALSE | FALSE | FALSE |\n| FALSE | FALSE | FALSE | FALSE |\n| FALSE | FALSE | FALSE | FALSE |\n| FALSE | FALSE | FALSE | FALSE |\n| FALSE | FALSE | FALSE | FALSE |\n| FALSE | FALSE | FALSE | FALSE |\n| FALSE | FALSE | FALSE | FALSE |\n| FALSE | FALSE | FALSE | FALSE |\n\n",
            "text/latex": "A matrix: 31 × 4 of type lgl\n\\begin{tabular}{llll}\n Diameter & Height & Volume & diameter\\_ft\\\\\n\\hline\n\t FALSE & FALSE & FALSE & FALSE\\\\\n\t FALSE & FALSE & FALSE & FALSE\\\\\n\t FALSE & FALSE & FALSE & FALSE\\\\\n\t FALSE & FALSE & FALSE & FALSE\\\\\n\t FALSE & FALSE & FALSE & FALSE\\\\\n\t FALSE & FALSE & FALSE & FALSE\\\\\n\t FALSE & FALSE & FALSE & FALSE\\\\\n\t FALSE & FALSE & FALSE & FALSE\\\\\n\t FALSE & FALSE & FALSE & FALSE\\\\\n\t FALSE & FALSE & FALSE & FALSE\\\\\n\t FALSE & FALSE & FALSE & FALSE\\\\\n\t FALSE & FALSE & FALSE & FALSE\\\\\n\t FALSE & FALSE & FALSE & FALSE\\\\\n\t FALSE & FALSE & FALSE & FALSE\\\\\n\t FALSE & FALSE & FALSE & FALSE\\\\\n\t FALSE & FALSE & FALSE & FALSE\\\\\n\t FALSE & FALSE & FALSE & FALSE\\\\\n\t FALSE & FALSE & FALSE & FALSE\\\\\n\t FALSE & FALSE & FALSE & FALSE\\\\\n\t FALSE & FALSE & FALSE & FALSE\\\\\n\t FALSE & FALSE & FALSE & FALSE\\\\\n\t FALSE & FALSE & FALSE & FALSE\\\\\n\t FALSE & FALSE & FALSE & FALSE\\\\\n\t FALSE & FALSE & FALSE & FALSE\\\\\n\t FALSE & FALSE & FALSE & FALSE\\\\\n\t FALSE & FALSE & FALSE & FALSE\\\\\n\t FALSE & FALSE & FALSE & FALSE\\\\\n\t FALSE & FALSE & FALSE & FALSE\\\\\n\t FALSE & FALSE & FALSE & FALSE\\\\\n\t FALSE & FALSE & FALSE & FALSE\\\\\n\t FALSE & FALSE & FALSE & FALSE\\\\\n\\end{tabular}\n",
            "text/plain": [
              "      Diameter Height Volume diameter_ft\n",
              " [1,] FALSE    FALSE  FALSE  FALSE      \n",
              " [2,] FALSE    FALSE  FALSE  FALSE      \n",
              " [3,] FALSE    FALSE  FALSE  FALSE      \n",
              " [4,] FALSE    FALSE  FALSE  FALSE      \n",
              " [5,] FALSE    FALSE  FALSE  FALSE      \n",
              " [6,] FALSE    FALSE  FALSE  FALSE      \n",
              " [7,] FALSE    FALSE  FALSE  FALSE      \n",
              " [8,] FALSE    FALSE  FALSE  FALSE      \n",
              " [9,] FALSE    FALSE  FALSE  FALSE      \n",
              "[10,] FALSE    FALSE  FALSE  FALSE      \n",
              "[11,] FALSE    FALSE  FALSE  FALSE      \n",
              "[12,] FALSE    FALSE  FALSE  FALSE      \n",
              "[13,] FALSE    FALSE  FALSE  FALSE      \n",
              "[14,] FALSE    FALSE  FALSE  FALSE      \n",
              "[15,] FALSE    FALSE  FALSE  FALSE      \n",
              "[16,] FALSE    FALSE  FALSE  FALSE      \n",
              "[17,] FALSE    FALSE  FALSE  FALSE      \n",
              "[18,] FALSE    FALSE  FALSE  FALSE      \n",
              "[19,] FALSE    FALSE  FALSE  FALSE      \n",
              "[20,] FALSE    FALSE  FALSE  FALSE      \n",
              "[21,] FALSE    FALSE  FALSE  FALSE      \n",
              "[22,] FALSE    FALSE  FALSE  FALSE      \n",
              "[23,] FALSE    FALSE  FALSE  FALSE      \n",
              "[24,] FALSE    FALSE  FALSE  FALSE      \n",
              "[25,] FALSE    FALSE  FALSE  FALSE      \n",
              "[26,] FALSE    FALSE  FALSE  FALSE      \n",
              "[27,] FALSE    FALSE  FALSE  FALSE      \n",
              "[28,] FALSE    FALSE  FALSE  FALSE      \n",
              "[29,] FALSE    FALSE  FALSE  FALSE      \n",
              "[30,] FALSE    FALSE  FALSE  FALSE      \n",
              "[31,] FALSE    FALSE  FALSE  FALSE      "
            ]
          },
          "metadata": {}
        }
      ]
    },
    {
      "cell_type": "code",
      "source": [
        "## Shapiro Test Berguna untuk mengaevaluasi kenormalan dari setiap variable\n",
        "shapiro.test(trees_df$diameter_ft)\n",
        "shapiro.test(trees_df$Height)\n",
        "shapiro.test(trees_df$Volume)"
      ],
      "metadata": {
        "colab": {
          "base_uri": "https://localhost:8080/",
          "height": 277
        },
        "id": "lHwIyyRf_UyP",
        "outputId": "0a28796e-4883-4f35-ba81-069ed2aef377"
      },
      "execution_count": 10,
      "outputs": [
        {
          "output_type": "display_data",
          "data": {
            "text/plain": [
              "\n",
              "\tShapiro-Wilk normality test\n",
              "\n",
              "data:  trees_df$diameter_ft\n",
              "W = 0.94117, p-value = 0.08893\n"
            ]
          },
          "metadata": {}
        },
        {
          "output_type": "display_data",
          "data": {
            "text/plain": [
              "\n",
              "\tShapiro-Wilk normality test\n",
              "\n",
              "data:  trees_df$Height\n",
              "W = 0.96545, p-value = 0.4034\n"
            ]
          },
          "metadata": {}
        },
        {
          "output_type": "display_data",
          "data": {
            "text/plain": [
              "\n",
              "\tShapiro-Wilk normality test\n",
              "\n",
              "data:  trees_df$Volume\n",
              "W = 0.88757, p-value = 0.003579\n"
            ]
          },
          "metadata": {}
        }
      ]
    },
    {
      "cell_type": "code",
      "source": [
        "## Visualisasi Sederhana\n",
        "plot(density(trees_df$Volume))\n",
        "plot(density(trees_df$Height))\n",
        "plot(density(trees_df$diameter_ft))"
      ],
      "metadata": {
        "colab": {
          "base_uri": "https://localhost:8080/",
          "height": 1000
        },
        "id": "zUjKHxvD_pVM",
        "outputId": "e1f49f73-e5a0-451b-8e01-53bbf6f3772a"
      },
      "execution_count": 11,
      "outputs": [
        {
          "output_type": "display_data",
          "data": {
            "text/plain": [
              "Plot with title “density.default(x = trees_df$Volume)”"
            ],
            "image/png": "[encoded data removed]"
          },
          "metadata": {
            "image/png": {
              "width": 420,
              "height": 420
            }
          }
        },
        {
          "output_type": "display_data",
          "data": {
            "text/plain": [
              "Plot with title “density.default(x = trees_df$Height)”"
            ],
            "image/png": "[encoded data removed]"
          },
          "metadata": {
            "image/png": {
              "width": 420,
              "height": 420
            }
          }
        },
        {
          "output_type": "display_data",
          "data": {
            "text/plain": [
              "Plot with title “density.default(x = trees_df$diameter_ft)”"
            ],
            "image/png": "[encoded data removed]"
          },
          "metadata": {
            "image/png": {
              "width": 420,
              "height": 420
            }
          }
        }
      ]
    },
    {
      "cell_type": "code",
      "source": [
        "## Mencari Hubungan\n",
        "## Bagaimanakah hubungan antara Volume batang pohon Cherry dengan diameter dan ketinggian (height)\n",
        "lm(formula = Volume ~ Height + diameter_ft, data = trees_df)\n",
        "plot(trees_df$diameter_ft, trees_df$Volume)\n",
        "plot(trees_df$Height, trees_df$Volume)"
      ],
      "metadata": {
        "colab": {
          "base_uri": "https://localhost:8080/",
          "height": 979
        },
        "id": "X7unH4PH_8sN",
        "outputId": "697c28f8-0a7e-4655-96d5-043eb80619b9"
      },
      "execution_count": 12,
      "outputs": [
        {
          "output_type": "display_data",
          "data": {
            "text/plain": [
              "\n",
              "Call:\n",
              "lm(formula = Volume ~ Height + diameter_ft, data = trees_df)\n",
              "\n",
              "Coefficients:\n",
              "(Intercept)       Height  diameter_ft  \n",
              "   -57.9877       0.3393      56.5002  \n"
            ]
          },
          "metadata": {}
        },
        {
          "output_type": "display_data",
          "data": {
            "text/plain": [
              "plot without title"
            ],
            "image/png": "[encoded data removed]"
          },
          "metadata": {
            "image/png": {
              "width": 420,
              "height": 420
            }
          }
        },
        {
          "output_type": "display_data",
          "data": {
            "text/plain": [
              "plot without title"
            ],
            "image/png": "[encoded data removed]"
          },
          "metadata": {
            "image/png": {
              "width": 420,
              "height": 420
            }
          }
        }
      ]
    },
    {
      "cell_type": "markdown",
      "source": [
        "**Problem Statement**\n",
        "Pada Bagian ini melakukan analisa efek pemberian obat tidur terhadap peningkatan lamanya waktu tidur dari sekelompok mahasiswa\n",
        "dengan menggunakan dataset berikut : https://storage.googleapis.com/dqlab-dataset/sleep.csv "
      ],
      "metadata": {
        "id": "ebJiaAcfBG56"
      }
    },
    {
      "cell_type": "code",
      "source": [
        "library(readr) #pre-defined\n",
        "library(dplyr) #pre-defined\n",
        "\n",
        "sleep_df <- read_csv('/content/sleep.csv') "
      ],
      "metadata": {
        "colab": {
          "base_uri": "https://localhost:8080/"
        },
        "id": "1ynkV2_gAr7K",
        "outputId": "bcef85bb-155f-4a07-9064-4969234f32b1"
      },
      "execution_count": 14,
      "outputs": [
        {
          "output_type": "stream",
          "name": "stderr",
          "text": [
            "\n",
            "Attaching package: ‘dplyr’\n",
            "\n",
            "\n",
            "The following objects are masked from ‘package:stats’:\n",
            "\n",
            "    filter, lag\n",
            "\n",
            "\n",
            "The following objects are masked from ‘package:base’:\n",
            "\n",
            "    intersect, setdiff, setequal, union\n",
            "\n",
            "\n",
            "\u001b[1mRows: \u001b[22m\u001b[34m20\u001b[39m \u001b[1mColumns: \u001b[22m\u001b[34m3\u001b[39m\n",
            "\u001b[36m──\u001b[39m \u001b[1mColumn specification\u001b[22m \u001b[36m────────────────────────────────────────────────────────\u001b[39m\n",
            "\u001b[1mDelimiter:\u001b[22m \",\"\n",
            "\u001b[32mdbl\u001b[39m (3): extra, group, ID\n",
            "\n",
            "\u001b[36mℹ\u001b[39m Use `spec()` to retrieve the full column specification for this data.\n",
            "\u001b[36mℹ\u001b[39m Specify the column types or set `show_col_types = FALSE` to quiet this message.\n"
          ]
        }
      ]
    },
    {
      "cell_type": "code",
      "source": [
        "# Save the data in two different dataframe/vector\n",
        "group1 <- filter(sleep_df, sleep_df$group == 1)\n",
        "group2 <- filter(sleep_df, sleep_df$group == 2)\n",
        "\n",
        "t_test  <- t.test(group1$extra, group2$extra)\n",
        "t_test"
      ],
      "metadata": {
        "colab": {
          "base_uri": "https://localhost:8080/",
          "height": 208
        },
        "id": "fEBkgELcB2WK",
        "outputId": "cb456cec-ef6f-4a7b-802e-aa488b19e4ea"
      },
      "execution_count": 15,
      "outputs": [
        {
          "output_type": "display_data",
          "data": {
            "text/plain": [
              "\n",
              "\tWelch Two Sample t-test\n",
              "\n",
              "data:  group1$extra and group2$extra\n",
              "t = -1.8608, df = 17.776, p-value = 0.07939\n",
              "alternative hypothesis: true difference in means is not equal to 0\n",
              "95 percent confidence interval:\n",
              " -3.3654832  0.2054832\n",
              "sample estimates:\n",
              "mean of x mean of y \n",
              "     0.75      2.33 \n"
            ]
          },
          "metadata": {}
        }
      ]
    },
    {
      "cell_type": "code",
      "source": [
        "## Menghasilakan Plot\n",
        "library(ggplot2)\n",
        "ggplot(sleep_df, aes(x=as.character(group), y=extra, fill=as.character(group))) + geom_boxplot()"
      ],
      "metadata": {
        "colab": {
          "base_uri": "https://localhost:8080/",
          "height": 437
        },
        "id": "TMrivZJbCI9M",
        "outputId": "81857a02-aa34-4467-e0b1-4c2df4a85454"
      },
      "execution_count": 16,
      "outputs": [
        {
          "output_type": "display_data",
          "data": {
            "text/plain": [
              "plot without title"
            ],
            "image/png": "[encoded data removed]"
          },
          "metadata": {
            "image/png": {
              "width": 420,
              "height": 420
            }
          }
        }
      ]
    },
    {
      "cell_type": "markdown",
      "source": [
        "**Machine Learning With R**\n",
        "\n",
        "Membuat Model Sederhana bagaimana pengaruh \"num_people\" dan \"housearea\" terhadap \"amount_paid\" pada Electric Bill"
      ],
      "metadata": {
        "id": "p_XhC2aWCkFw"
      }
    },
    {
      "cell_type": "code",
      "source": [
        "library(readr)\n",
        "electric_bill <- read_csv(\"/content/electric_bill.csv\")\n",
        "model <- lm(amount_paid ~  num_people + housearea, data=electric_bill)\n",
        "model"
      ],
      "metadata": {
        "colab": {
          "base_uri": "https://localhost:8080/",
          "height": 260
        },
        "id": "cRYaz3FWC2YN",
        "outputId": "bb1367a0-0c1e-4721-88d9-c11f4bdb7870"
      },
      "execution_count": 17,
      "outputs": [
        {
          "output_type": "stream",
          "name": "stderr",
          "text": [
            "\u001b[1mRows: \u001b[22m\u001b[34m1000\u001b[39m \u001b[1mColumns: \u001b[22m\u001b[34m10\u001b[39m\n",
            "\u001b[36m──\u001b[39m \u001b[1mColumn specification\u001b[22m \u001b[36m────────────────────────────────────────────────────────\u001b[39m\n",
            "\u001b[1mDelimiter:\u001b[22m \",\"\n",
            "\u001b[32mdbl\u001b[39m (10): num_rooms, num_people, housearea, is_ac, is_tv, is_flat, ave_month...\n",
            "\n",
            "\u001b[36mℹ\u001b[39m Use `spec()` to retrieve the full column specification for this data.\n",
            "\u001b[36mℹ\u001b[39m Specify the column types or set `show_col_types = FALSE` to quiet this message.\n"
          ]
        },
        {
          "output_type": "display_data",
          "data": {
            "text/plain": [
              "\n",
              "Call:\n",
              "lm(formula = amount_paid ~ num_people + housearea, data = electric_bill)\n",
              "\n",
              "Coefficients:\n",
              "(Intercept)   num_people    housearea  \n",
              "    482.920        4.834        0.118  \n"
            ]
          },
          "metadata": {}
        }
      ]
    },
    {
      "cell_type": "markdown",
      "source": [
        "**Training dan Testing**\n",
        "\n",
        "Dalam membuat model machine learning, dataset perlu dibagi ke dalam Training dan Testing set. Salah satu library yang digunakan adalah caret. Dengan menggunakan Iris dataset yang sudah di-load dan library caret, buatlah syntax untuk membagi dataset tersebut ke dalam training set (80%) dan testing dataset (20%)"
      ],
      "metadata": {
        "id": "oi88Y0PRDcML"
      }
    },
    {
      "cell_type": "code",
      "source": [
        "install.packages('caret')"
      ],
      "metadata": {
        "colab": {
          "base_uri": "https://localhost:8080/"
        },
        "id": "qupdm6BHD9gA",
        "outputId": "77ec19c5-c4f4-421e-940a-43a1760859f8"
      },
      "execution_count": 19,
      "outputs": [
        {
          "output_type": "stream",
          "name": "stderr",
          "text": [
            "Installing package into ‘/usr/local/lib/R/site-library’\n",
            "(as ‘lib’ is unspecified)\n",
            "\n",
            "also installing the dependencies ‘listenv’, ‘parallelly’, ‘future’, ‘globals’, ‘future.apply’, ‘progressr’, ‘numDeriv’, ‘SQUAREM’, ‘lava’, ‘prodlim’, ‘proxy’, ‘iterators’, ‘Rcpp’, ‘gower’, ‘hardhat’, ‘ipred’, ‘timeDate’, ‘e1071’, ‘foreach’, ‘ModelMetrics’, ‘plyr’, ‘pROC’, ‘recipes’, ‘reshape2’\n",
            "\n",
            "\n"
          ]
        }
      ]
    },
    {
      "cell_type": "code",
      "source": [
        "library(readr)\n",
        "library(caret)\n",
        "\n",
        "set.seed(123)\n",
        "\n",
        "iris <- read_csv(\"/content/iris.csv\")\n",
        "trainIndex <- createDataPartition(iris$Species, p=0.8, list=FALSE)\n",
        "\n",
        "training_set <- iris[trainIndex, ]\n",
        "testing_set <- iris[-trainIndex, ]\n",
        "\n",
        "dim(training_set)\n",
        "dim(testing_set)"
      ],
      "metadata": {
        "colab": {
          "base_uri": "https://localhost:8080/",
          "height": 260
        },
        "id": "PvF0p4xtDILA",
        "outputId": "f3dfd28f-b666-4490-bc3c-a2047d74c791"
      },
      "execution_count": 20,
      "outputs": [
        {
          "output_type": "stream",
          "name": "stderr",
          "text": [
            "Loading required package: lattice\n",
            "\n",
            "Warning message in system(\"timedatectl\", intern = TRUE):\n",
            "“running command 'timedatectl' had status 1”\n",
            "\u001b[1mRows: \u001b[22m\u001b[34m150\u001b[39m \u001b[1mColumns: \u001b[22m\u001b[34m5\u001b[39m\n",
            "\u001b[36m──\u001b[39m \u001b[1mColumn specification\u001b[22m \u001b[36m────────────────────────────────────────────────────────\u001b[39m\n",
            "\u001b[1mDelimiter:\u001b[22m \",\"\n",
            "\u001b[31mchr\u001b[39m (1): Species\n",
            "\u001b[32mdbl\u001b[39m (4): Sepal.Length, Sepal.Width, Petal.Length, Petal.Width\n",
            "\n",
            "\u001b[36mℹ\u001b[39m Use `spec()` to retrieve the full column specification for this data.\n",
            "\u001b[36mℹ\u001b[39m Specify the column types or set `show_col_types = FALSE` to quiet this message.\n"
          ]
        },
        {
          "output_type": "display_data",
          "data": {
            "text/html": [
              "<style>\n",
              ".list-inline {list-style: none; margin:0; padding: 0}\n",
              ".list-inline>li {display: inline-block}\n",
              ".list-inline>li:not(:last-child)::after {content: \"\\00b7\"; padding: 0 .5ex}\n",
              "</style>\n",
              "<ol class=list-inline><li>120</li><li>5</li></ol>\n"
            ],
            "text/markdown": "1. 120\n2. 5\n\n\n",
            "text/latex": "\\begin{enumerate*}\n\\item 120\n\\item 5\n\\end{enumerate*}\n",
            "text/plain": [
              "[1] 120   5"
            ]
          },
          "metadata": {}
        },
        {
          "output_type": "display_data",
          "data": {
            "text/html": [
              "<style>\n",
              ".list-inline {list-style: none; margin:0; padding: 0}\n",
              ".list-inline>li {display: inline-block}\n",
              ".list-inline>li:not(:last-child)::after {content: \"\\00b7\"; padding: 0 .5ex}\n",
              "</style>\n",
              "<ol class=list-inline><li>30</li><li>5</li></ol>\n"
            ],
            "text/markdown": "1. 30\n2. 5\n\n\n",
            "text/latex": "\\begin{enumerate*}\n\\item 30\n\\item 5\n\\end{enumerate*}\n",
            "text/plain": [
              "[1] 30  5"
            ]
          },
          "metadata": {}
        }
      ]
    },
    {
      "cell_type": "markdown",
      "source": [
        "**Model Decision Tree**\n",
        "\n",
        "machine learning model dengan menggunakan Decision tree untuk memprediksi customer yang tertarik membeli mobil keluaran terbaru, serta evaluasi performance dari kedua model tersebut."
      ],
      "metadata": {
        "id": "CcqlG8m-JtVB"
      }
    },
    {
      "cell_type": "code",
      "source": [
        "library(caret) #pre-defined \n",
        "library(rpart) #pre-defined\n",
        "library(readr) #pre-defined\n",
        "set.seed(123)  #pre-defined\n",
        "\n",
        "suv_data <- read_csv(\"/content/suv_data.csv\") #pre-defined\n",
        "\n",
        "#split data to training & testing set\n",
        "trainIndex <- createDataPartition(suv_data$Purchased, p=0.8, list=FALSE)\n",
        "training_set <- suv_data[trainIndex, ]\n",
        "testing_set <- suv_data[-trainIndex, ]\n",
        "#build model with decision tree\n",
        "model_dt <- rpart(Purchased ~ ., data = training_set, method=\"class\")\n",
        "predictions_dt <- predict(model_dt, newdata = testing_set, type = \"class\")\n",
        "#evaluate performance with new data/ testing_set\n",
        "testing_purchased <- factor(testing_set$Purchased) #pre-defined \n",
        "\n",
        "#show the evaluation result \n",
        "evaluation_result <-confusionMatrix(predictions_dt,testing_purchased)\n",
        "evaluation_result"
      ],
      "metadata": {
        "colab": {
          "base_uri": "https://localhost:8080/",
          "height": 625
        },
        "id": "_k-3s5gGJseF",
        "outputId": "72deb7e8-ab5a-47ae-be44-3e95c00f2bfd"
      },
      "execution_count": 21,
      "outputs": [
        {
          "output_type": "stream",
          "name": "stderr",
          "text": [
            "\u001b[1mRows: \u001b[22m\u001b[34m400\u001b[39m \u001b[1mColumns: \u001b[22m\u001b[34m4\u001b[39m\n",
            "\u001b[36m──\u001b[39m \u001b[1mColumn specification\u001b[22m \u001b[36m────────────────────────────────────────────────────────\u001b[39m\n",
            "\u001b[1mDelimiter:\u001b[22m \",\"\n",
            "\u001b[31mchr\u001b[39m (1): Gender\n",
            "\u001b[32mdbl\u001b[39m (3): Age, EstimatedSalary, Purchased\n",
            "\n",
            "\u001b[36mℹ\u001b[39m Use `spec()` to retrieve the full column specification for this data.\n",
            "\u001b[36mℹ\u001b[39m Specify the column types or set `show_col_types = FALSE` to quiet this message.\n"
          ]
        },
        {
          "output_type": "display_data",
          "data": {
            "text/plain": [
              "Confusion Matrix and Statistics\n",
              "\n",
              "          Reference\n",
              "Prediction  0  1\n",
              "         0 53  1\n",
              "         1  5 21\n",
              "                                         \n",
              "               Accuracy : 0.925          \n",
              "                 95% CI : (0.8439, 0.972)\n",
              "    No Information Rate : 0.725          \n",
              "    P-Value [Acc > NIR] : 7.53e-06       \n",
              "                                         \n",
              "                  Kappa : 0.822          \n",
              "                                         \n",
              " Mcnemar's Test P-Value : 0.2207         \n",
              "                                         \n",
              "            Sensitivity : 0.9138         \n",
              "            Specificity : 0.9545         \n",
              "         Pos Pred Value : 0.9815         \n",
              "         Neg Pred Value : 0.8077         \n",
              "             Prevalence : 0.7250         \n",
              "         Detection Rate : 0.6625         \n",
              "   Detection Prevalence : 0.6750         \n",
              "      Balanced Accuracy : 0.9342         \n",
              "                                         \n",
              "       'Positive' Class : 0              \n",
              "                                         "
            ]
          },
          "metadata": {}
        }
      ]
    }
  ]
}